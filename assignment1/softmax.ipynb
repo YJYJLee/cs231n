{
 "cells": [
  {
   "cell_type": "markdown",
   "metadata": {},
   "source": [
    "# Softmax exercise\n",
    "\n",
    "*Complete and hand in this completed worksheet (including its outputs and any supporting code outside of the worksheet) with your assignment submission. For more details see the [assignments page](http://vision.stanford.edu/teaching/cs231n/assignments.html) on the course website.*\n",
    "\n",
    "This exercise is analogous to the SVM exercise. You will:\n",
    "\n",
    "- implement a fully-vectorized **loss function** for the Softmax classifier\n",
    "- implement the fully-vectorized expression for its **analytic gradient**\n",
    "- **check your implementation** with numerical gradient\n",
    "- use a validation set to **tune the learning rate and regularization** strength\n",
    "- **optimize** the loss function with **SGD**\n",
    "- **visualize** the final learned weights\n"
   ]
  },
  {
   "cell_type": "code",
   "execution_count": 1,
   "metadata": {
    "collapsed": true
   },
   "outputs": [],
   "source": [
    "import random\n",
    "import numpy as np\n",
    "from cs231n.data_utils import load_CIFAR10\n",
    "import matplotlib.pyplot as plt\n",
    "\n",
    "from __future__ import print_function\n",
    "\n",
    "%matplotlib inline\n",
    "plt.rcParams['figure.figsize'] = (10.0, 8.0) # set default size of plots\n",
    "plt.rcParams['image.interpolation'] = 'nearest'\n",
    "plt.rcParams['image.cmap'] = 'gray'\n",
    "\n",
    "# for auto-reloading extenrnal modules\n",
    "# see http://stackoverflow.com/questions/1907993/autoreload-of-modules-in-ipython\n",
    "%load_ext autoreload\n",
    "%autoreload 2"
   ]
  },
  {
   "cell_type": "code",
   "execution_count": 2,
   "metadata": {},
   "outputs": [
    {
     "name": "stdout",
     "output_type": "stream",
     "text": [
      "Train data shape:  (49000, 3073)\n",
      "Train labels shape:  (49000,)\n",
      "Validation data shape:  (1000, 3073)\n",
      "Validation labels shape:  (1000,)\n",
      "Test data shape:  (1000, 3073)\n",
      "Test labels shape:  (1000,)\n",
      "dev data shape:  (500, 3073)\n",
      "dev labels shape:  (500,)\n"
     ]
    }
   ],
   "source": [
    "def get_CIFAR10_data(num_training=49000, num_validation=1000, num_test=1000, num_dev=500):\n",
    "    \"\"\"\n",
    "    Load the CIFAR-10 dataset from disk and perform preprocessing to prepare\n",
    "    it for the linear classifier. These are the same steps as we used for the\n",
    "    SVM, but condensed to a single function.  \n",
    "    \"\"\"\n",
    "    # Load the raw CIFAR-10 data\n",
    "    cifar10_dir = 'cs231n/datasets/cifar-10-batches-py'\n",
    "    X_train, y_train, X_test, y_test = load_CIFAR10(cifar10_dir)\n",
    "    \n",
    "    # subsample the data\n",
    "    mask = list(range(num_training, num_training + num_validation))           # validation range에 있는 데이터들을 가져옴\n",
    "    X_val = X_train[mask]\n",
    "    y_val = y_train[mask]      \n",
    "    mask = list(range(num_training))                                          # training range에 있는 데이터들을 가져옴\n",
    "    X_train = X_train[mask]\n",
    "    y_train = y_train[mask]\n",
    "    mask = list(range(num_test))                                              # test range에 있는 데이터들을 가져옴\n",
    "    X_test = X_test[mask]\n",
    "    y_test = y_test[mask]\n",
    "    mask = np.random.choice(num_training, num_dev, replace=False)             # replace없이 num_training 내에서 num_dev개 만큼 랜덤으로 pick\n",
    "    X_dev = X_train[mask]\n",
    "    y_dev = y_train[mask]\n",
    "    \n",
    "    # Preprocessing: reshape the image data into rows\n",
    "    X_train = np.reshape(X_train, (X_train.shape[0], -1))\n",
    "    X_val = np.reshape(X_val, (X_val.shape[0], -1))\n",
    "    X_test = np.reshape(X_test, (X_test.shape[0], -1))\n",
    "    X_dev = np.reshape(X_dev, (X_dev.shape[0], -1))\n",
    "    \n",
    "    # Normalize the data: subtract the mean image\n",
    "    mean_image = np.mean(X_train, axis = 0)\n",
    "    X_train -= mean_image\n",
    "    X_val -= mean_image\n",
    "    X_test -= mean_image\n",
    "    X_dev -= mean_image\n",
    "    \n",
    "    # add bias dimension and transform into columns\n",
    "    X_train = np.hstack([X_train, np.ones((X_train.shape[0], 1))])   # np.hstack(tup) = np.concatenate(tup,axis=1)\n",
    "    X_val = np.hstack([X_val, np.ones((X_val.shape[0], 1))])\n",
    "    X_test = np.hstack([X_test, np.ones((X_test.shape[0], 1))])\n",
    "    X_dev = np.hstack([X_dev, np.ones((X_dev.shape[0], 1))])\n",
    "    \n",
    "    return X_train, y_train, X_val, y_val, X_test, y_test, X_dev, y_dev\n",
    "\n",
    "\n",
    "# Invoke the above function to get our data.\n",
    "X_train, y_train, X_val, y_val, X_test, y_test, X_dev, y_dev = get_CIFAR10_data()\n",
    "print('Train data shape: ', X_train.shape)\n",
    "print('Train labels shape: ', y_train.shape)\n",
    "print('Validation data shape: ', X_val.shape)\n",
    "print('Validation labels shape: ', y_val.shape)\n",
    "print('Test data shape: ', X_test.shape)\n",
    "print('Test labels shape: ', y_test.shape)\n",
    "print('dev data shape: ', X_dev.shape)\n",
    "print('dev labels shape: ', y_dev.shape)"
   ]
  },
  {
   "cell_type": "markdown",
   "metadata": {},
   "source": [
    "## Softmax Classifier\n",
    "\n",
    "Your code for this section will all be written inside **cs231n/classifiers/softmax.py**. \n"
   ]
  },
  {
   "cell_type": "code",
   "execution_count": 3,
   "metadata": {},
   "outputs": [
    {
     "name": "stdout",
     "output_type": "stream",
     "text": [
      "loss: 2.354394\n",
      "sanity check: 2.302585\n"
     ]
    }
   ],
   "source": [
    "# First implement the naive softmax loss function with nested loops.\n",
    "# Open the file cs231n/classifiers/softmax.py and implement the\n",
    "# softmax_loss_naive function.\n",
    "\n",
    "from cs231n.classifiers.softmax import softmax_loss_naive\n",
    "import time\n",
    "\n",
    "# Generate a random softmax weight matrix and use it to compute the loss.\n",
    "W = np.random.randn(3073, 10) * 0.0001\n",
    "loss, grad = softmax_loss_naive(W, X_dev, y_dev, 0.0)\n",
    "\n",
    "# As a rough sanity check, our loss should be something close to -log(0.1).\n",
    "print('loss: %f' % loss)\n",
    "print('sanity check: %f' % (-np.log(0.1)))"
   ]
  },
  {
   "cell_type": "markdown",
   "metadata": {},
   "source": [
    "## Inline Question 1:\n",
    "Why do we expect our loss to be close to -log(0.1)? Explain briefly.**\n",
    "\n",
    "**Your answer:** *Fill this in*\n"
   ]
  },
  {
   "cell_type": "code",
   "execution_count": 4,
   "metadata": {
    "scrolled": false
   },
   "outputs": [
    {
     "name": "stdout",
     "output_type": "stream",
     "text": [
      "numerical: 0.275075 analytic: 0.275075, relative error: 5.482146e-08\n",
      "numerical: -3.642483 analytic: -3.642483, relative error: 1.003330e-08\n",
      "numerical: -2.246982 analytic: -2.246982, relative error: 3.030850e-08\n",
      "numerical: 2.870134 analytic: 2.870134, relative error: 1.588276e-08\n",
      "numerical: -2.991643 analytic: -2.991644, relative error: 6.402877e-09\n",
      "numerical: 0.326519 analytic: 0.326519, relative error: 7.305480e-08\n",
      "numerical: -0.689988 analytic: -0.689988, relative error: 4.875317e-08\n",
      "numerical: 0.381818 analytic: 0.381818, relative error: 8.589981e-08\n",
      "numerical: 0.277626 analytic: 0.277626, relative error: 5.238210e-08\n",
      "numerical: 0.108831 analytic: 0.108831, relative error: 9.553430e-07\n",
      "numerical: 0.899185 analytic: 0.899185, relative error: 4.866139e-08\n",
      "numerical: -2.083889 analytic: -2.083889, relative error: 1.702887e-09\n",
      "numerical: -0.801763 analytic: -0.801763, relative error: 6.453706e-08\n",
      "numerical: 2.441719 analytic: 2.441719, relative error: 2.091770e-08\n",
      "numerical: -2.097181 analytic: -2.097181, relative error: 1.969115e-08\n",
      "numerical: -0.034580 analytic: -0.034580, relative error: 7.443733e-07\n",
      "numerical: 1.195042 analytic: 1.195042, relative error: 2.333764e-08\n",
      "numerical: 3.369795 analytic: 3.369795, relative error: 7.289296e-09\n",
      "numerical: 1.920861 analytic: 1.920861, relative error: 2.510804e-08\n",
      "numerical: -0.080447 analytic: -0.080447, relative error: 7.095277e-07\n"
     ]
    }
   ],
   "source": [
    "# Complete the implementation of softmax_loss_naive and implement a (naive)\n",
    "# version of the gradient that uses nested loops.\n",
    "loss, grad = softmax_loss_naive(W, X_dev, y_dev, 0.0)\n",
    "\n",
    "# As we did for the SVM, use numeric gradient checking as a debugging tool.\n",
    "# The numeric gradient should be close to the analytic gradient.\n",
    "from cs231n.gradient_check import grad_check_sparse\n",
    "f = lambda w: softmax_loss_naive(w, X_dev, y_dev, 0.0)[0]\n",
    "grad_numerical = grad_check_sparse(f, W, grad, 10)\n",
    "\n",
    "# similar to SVM case, do another gradient check with regularization\n",
    "loss, grad = softmax_loss_naive(W, X_dev, y_dev, 1e2)\n",
    "f = lambda w: softmax_loss_naive(w, X_dev, y_dev, 1e2)[0]           # 1e2로 change\n",
    "grad_numerical = grad_check_sparse(f, W, grad, 10)"
   ]
  },
  {
   "cell_type": "code",
   "execution_count": 5,
   "metadata": {},
   "outputs": [
    {
     "name": "stdout",
     "output_type": "stream",
     "text": [
      "naive loss: 2.354394e+00 computed in 0.404023s\n",
      "vectorized loss: 2.354394e+00 computed in 0.033002s\n",
      "Loss difference: 0.000000\n",
      "Gradient difference: 0.000000\n"
     ]
    }
   ],
   "source": [
    "# Now that we have a naive implementation of the softmax loss function and its gradient,\n",
    "# implement a vectorized version in softmax_loss_vectorized.\n",
    "# The two versions should compute the same results, but the vectorized version should be\n",
    "# much faster.\n",
    "tic = time.time()\n",
    "loss_naive, grad_naive = softmax_loss_naive(W, X_dev, y_dev, 0.000005)\n",
    "toc = time.time()\n",
    "print('naive loss: %e computed in %fs' % (loss_naive, toc - tic))\n",
    "\n",
    "from cs231n.classifiers.softmax import softmax_loss_vectorized\n",
    "tic = time.time()\n",
    "loss_vectorized, grad_vectorized = softmax_loss_vectorized(W, X_dev, y_dev, 0.000005)\n",
    "toc = time.time()\n",
    "print('vectorized loss: %e computed in %fs' % (loss_vectorized, toc - tic))\n",
    "\n",
    "# As we did for the SVM, we use the Frobenius norm to compare the two versions\n",
    "# of the gradient.\n",
    "grad_difference = np.linalg.norm(grad_naive - grad_vectorized, ord='fro')\n",
    "print('Loss difference: %f' % np.abs(loss_naive - loss_vectorized))\n",
    "print('Gradient difference: %f' % grad_difference)"
   ]
  },
  {
   "cell_type": "code",
   "execution_count": 8,
   "metadata": {},
   "outputs": [
    {
     "name": "stdout",
     "output_type": "stream",
     "text": [
      "check\n",
      "check\n",
      "check\n",
      "check\n",
      "check\n",
      "check\n",
      "check\n",
      "check\n",
      "check\n",
      "check\n",
      "check\n",
      "check\n",
      "check\n",
      "check\n",
      "check\n",
      "check\n",
      "check\n",
      "check\n",
      "check\n",
      "check\n",
      "check\n",
      "check\n",
      "check\n",
      "check\n",
      "check\n",
      "check\n",
      "check\n",
      "check\n",
      "check\n",
      "check\n",
      "check\n",
      "check\n",
      "check\n",
      "check\n",
      "check\n",
      "check\n",
      "check\n",
      "check\n",
      "check\n",
      "check\n",
      "check\n",
      "check\n",
      "lr 1.000000e-07 reg 7.000000e+03 train accuracy: 0.348673 val accuracy: 0.351000\n",
      "lr 1.000000e-07 reg 8.000000e+03 train accuracy: 0.354306 val accuracy: 0.376000\n",
      "lr 1.000000e-07 reg 9.000000e+03 train accuracy: 0.356429 val accuracy: 0.373000\n",
      "lr 1.000000e-07 reg 1.000000e+04 train accuracy: 0.351653 val accuracy: 0.373000\n",
      "lr 1.000000e-07 reg 1.100000e+04 train accuracy: 0.353265 val accuracy: 0.368000\n",
      "lr 1.000000e-07 reg 1.200000e+04 train accuracy: 0.350816 val accuracy: 0.370000\n",
      "lr 1.000000e-07 reg 1.300000e+04 train accuracy: 0.347449 val accuracy: 0.365000\n",
      "lr 1.000000e-07 reg 4.700000e+04 train accuracy: 0.314245 val accuracy: 0.327000\n",
      "lr 1.000000e-07 reg 4.800000e+04 train accuracy: 0.305796 val accuracy: 0.326000\n",
      "lr 1.000000e-07 reg 4.900000e+04 train accuracy: 0.310673 val accuracy: 0.325000\n",
      "lr 1.000000e-07 reg 5.000000e+04 train accuracy: 0.306204 val accuracy: 0.319000\n",
      "lr 1.000000e-07 reg 5.100000e+04 train accuracy: 0.304980 val accuracy: 0.318000\n",
      "lr 1.000000e-07 reg 5.200000e+04 train accuracy: 0.301143 val accuracy: 0.320000\n",
      "lr 1.000000e-07 reg 5.300000e+04 train accuracy: 0.295265 val accuracy: 0.319000\n",
      "lr 2.000000e-07 reg 7.000000e+03 train accuracy: 0.369184 val accuracy: 0.376000\n",
      "lr 2.000000e-07 reg 8.000000e+03 train accuracy: 0.360143 val accuracy: 0.376000\n",
      "lr 2.000000e-07 reg 9.000000e+03 train accuracy: 0.357694 val accuracy: 0.368000\n",
      "lr 2.000000e-07 reg 1.000000e+04 train accuracy: 0.360551 val accuracy: 0.375000\n",
      "lr 2.000000e-07 reg 1.100000e+04 train accuracy: 0.354224 val accuracy: 0.363000\n",
      "lr 2.000000e-07 reg 1.200000e+04 train accuracy: 0.353898 val accuracy: 0.371000\n",
      "lr 2.000000e-07 reg 1.300000e+04 train accuracy: 0.351327 val accuracy: 0.361000\n",
      "lr 2.000000e-07 reg 4.700000e+04 train accuracy: 0.313082 val accuracy: 0.338000\n",
      "lr 2.000000e-07 reg 4.800000e+04 train accuracy: 0.302653 val accuracy: 0.325000\n",
      "lr 2.000000e-07 reg 4.900000e+04 train accuracy: 0.304224 val accuracy: 0.322000\n",
      "lr 2.000000e-07 reg 5.000000e+04 train accuracy: 0.305265 val accuracy: 0.323000\n",
      "lr 2.000000e-07 reg 5.100000e+04 train accuracy: 0.307020 val accuracy: 0.318000\n",
      "lr 2.000000e-07 reg 5.200000e+04 train accuracy: 0.313143 val accuracy: 0.331000\n",
      "lr 2.000000e-07 reg 5.300000e+04 train accuracy: 0.304857 val accuracy: 0.319000\n",
      "lr 5.000000e-07 reg 7.000000e+03 train accuracy: 0.363408 val accuracy: 0.378000\n",
      "lr 5.000000e-07 reg 8.000000e+03 train accuracy: 0.362918 val accuracy: 0.387000\n",
      "lr 5.000000e-07 reg 9.000000e+03 train accuracy: 0.350429 val accuracy: 0.351000\n",
      "lr 5.000000e-07 reg 1.000000e+04 train accuracy: 0.355918 val accuracy: 0.371000\n",
      "lr 5.000000e-07 reg 1.100000e+04 train accuracy: 0.346388 val accuracy: 0.353000\n",
      "lr 5.000000e-07 reg 1.200000e+04 train accuracy: 0.340184 val accuracy: 0.350000\n",
      "lr 5.000000e-07 reg 1.300000e+04 train accuracy: 0.342939 val accuracy: 0.362000\n",
      "lr 5.000000e-07 reg 4.700000e+04 train accuracy: 0.309551 val accuracy: 0.325000\n",
      "lr 5.000000e-07 reg 4.800000e+04 train accuracy: 0.300755 val accuracy: 0.316000\n",
      "lr 5.000000e-07 reg 4.900000e+04 train accuracy: 0.291510 val accuracy: 0.305000\n",
      "lr 5.000000e-07 reg 5.000000e+04 train accuracy: 0.294755 val accuracy: 0.315000\n",
      "lr 5.000000e-07 reg 5.100000e+04 train accuracy: 0.313204 val accuracy: 0.335000\n",
      "lr 5.000000e-07 reg 5.200000e+04 train accuracy: 0.303939 val accuracy: 0.325000\n",
      "lr 5.000000e-07 reg 5.300000e+04 train accuracy: 0.294776 val accuracy: 0.305000\n",
      "best validation accuracy achieved during cross-validation: 0.387000\n"
     ]
    }
   ],
   "source": [
    "# Use the validation set to tune hyperparameters (regularization strength and\n",
    "# learning rate). You should experiment with different ranges for the learning\n",
    "# rates and regularization strengths; if you are careful you should be able to\n",
    "# get a classification accuracy of over 0.35 on the validation set.\n",
    "from cs231n.classifiers import Softmax\n",
    "results = {}\n",
    "best_val = -1\n",
    "best_softmax = None\n",
    "#learning_rates = [1e-7, 5e-7,1e-8,5e-8]\n",
    "#regularization_strengths = [2.5e4, 5e4]\n",
    "learning_rates = [1e-7, 2e-7, 5e-7]\n",
    "#regularization_strengths = [5e4, 1e8]\n",
    "regularization_strengths =[(1+0.1*i)*1e4 for i in range(-3,4)] + [(5+0.1*i)*1e4 for i in range(-3,4)]\n",
    "\n",
    "################################################################################\n",
    "# TODO:                                                                        #\n",
    "# Use the validation set to set the learning rate and regularization strength. #\n",
    "# This should be identical to the validation that you did for the SVM; save    #\n",
    "# the best trained softmax classifer in best_softmax.                          #\n",
    "################################################################################\n",
    "for reg in regularization_strengths:\n",
    "    for lr in learning_rates:\n",
    "        print('check')\n",
    "        softmax = Softmax()\n",
    "        loss_hist = softmax.train(X_train, y_train, lr, reg, num_iters=1500)\n",
    "        y_train_pred = softmax.predict(X_train)\n",
    "        train_accuracy = np.mean(y_train == y_train_pred)\n",
    "        y_val_pred = softmax.predict(X_val)\n",
    "        val_accuracy = np.mean(y_val == y_val_pred)\n",
    "        if val_accuracy > best_val:\n",
    "            best_val = val_accuracy\n",
    "            best_softmax = softmax           \n",
    "        results[(lr,reg)] = train_accuracy, val_accuracy\n",
    "\n",
    "################################################################################\n",
    "#                              END OF YOUR CODE                                #\n",
    "################################################################################\n",
    "    \n",
    "# Print out results.\n",
    "for lr, reg in sorted(results):\n",
    "    train_accuracy, val_accuracy = results[(lr, reg)]\n",
    "    print('lr %e reg %e train accuracy: %f val accuracy: %f' % (\n",
    "                lr, reg, train_accuracy, val_accuracy))\n",
    "    \n",
    "print('best validation accuracy achieved during cross-validation: %f' % best_val)"
   ]
  },
  {
   "cell_type": "code",
   "execution_count": 9,
   "metadata": {},
   "outputs": [
    {
     "name": "stdout",
     "output_type": "stream",
     "text": [
      "softmax on raw pixels final test set accuracy: 0.365000\n"
     ]
    }
   ],
   "source": [
    "# evaluate on test set\n",
    "# Evaluate the best softmax on test set\n",
    "y_test_pred = best_softmax.predict(X_test)\n",
    "test_accuracy = np.mean(y_test == y_test_pred)\n",
    "print('softmax on raw pixels final test set accuracy: %f' % (test_accuracy, ))"
   ]
  },
  {
   "cell_type": "code",
   "execution_count": 10,
   "metadata": {},
   "outputs": [
    {
     "data": {
      "image/png": "[encoded data removed]",
      "text/plain": [
       "<matplotlib.figure.Figure at 0x21600c5e198>"
      ]
     },
     "metadata": {},
     "output_type": "display_data"
    }
   ],
   "source": [
    "# Visualize the learned weights for each class\n",
    "w = best_softmax.W[:-1,:] # strip out the bias\n",
    "w = w.reshape(32, 32, 3, 10)\n",
    "\n",
    "w_min, w_max = np.min(w), np.max(w)\n",
    "\n",
    "classes = ['plane', 'car', 'bird', 'cat', 'deer', 'dog', 'frog', 'horse', 'ship', 'truck']\n",
    "for i in range(10):\n",
    "    plt.subplot(2, 5, i + 1)\n",
    "    \n",
    "    # Rescale the weights to be between 0 and 255\n",
    "    wimg = 255.0 * (w[:, :, :, i].squeeze() - w_min) / (w_max - w_min)\n",
    "    plt.imshow(wimg.astype('uint8'))\n",
    "    plt.axis('off')\n",
    "    plt.title(classes[i])"
   ]
  },
  {
   "cell_type": "code",
   "execution_count": null,
   "metadata": {
    "collapsed": true
   },
   "outputs": [],
   "source": []
  }
 ],
 "metadata": {
  "kernelspec": {
   "display_name": "Python 3",
   "language": "python",
   "name": "python3"
  },
  "language_info": {
   "codemirror_mode": {
    "name": "ipython",
    "version": 3
   },
   "file_extension": ".py",
   "mimetype": "text/x-python",
   "name": "python",
   "nbconvert_exporter": "python",
   "pygments_lexer": "ipython3",
   "version": "3.6.1"
  }
 },
 "nbformat": 4,
 "nbformat_minor": 1
}
